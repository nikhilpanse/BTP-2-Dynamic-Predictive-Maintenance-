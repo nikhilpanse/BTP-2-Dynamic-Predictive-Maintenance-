{
 "cells": [
  {
   "cell_type": "code",
   "execution_count": 1,
   "metadata": {
    "collapsed": true
   },
   "outputs": [],
   "source": [
    "import pandas as pd\n",
    "import numpy as np\n",
    "import os\n",
    "\n",
    "from sklearn.ensemble import RandomForestRegressor\n",
    "from sklearn.metrics import mean_squared_error\n",
    "from sklearn.metrics import mean_absolute_error\n",
    "import matplotlib.pyplot as plt\n",
    "\n",
    "#from btb.tuning import GPTuner, UniformTuner\n",
    "#from btb import HyperParameter, ParamTypes"
   ]
  },
  {
   "cell_type": "markdown",
   "metadata": {},
   "source": [
    "# Read Data"
   ]
  },
  {
   "cell_type": "code",
   "execution_count": 2,
   "metadata": {
    "collapsed": true
   },
   "outputs": [],
   "source": [
    "folder = 'CMAPSSData'\n",
    "df_rul = pd.read_table(os.path.join(folder,'RUL_FD001.txt'), header=None)\n",
    "df_train = pd.read_table(os.path.join(folder, 'train_FD001.txt'), sep=' ', header=None)\n",
    "df_test = pd.read_table(os.path.join(folder, 'test_FD001.txt'), sep=' ', header=None)"
   ]
  },
  {
   "cell_type": "code",
   "execution_count": 3,
   "metadata": {
    "collapsed": true
   },
   "outputs": [],
   "source": [
    "# remove redundant columns due to extra spacing\n",
    "df_train = df_train[df_train.columns[:26]]\n",
    "df_test = df_test[df_test.columns[:26]]"
   ]
  },
  {
   "cell_type": "code",
   "execution_count": 4,
   "metadata": {},
   "outputs": [
    {
     "name": "stdout",
     "output_type": "stream",
     "text": [
      "RUL:  (100, 1)\n",
      "Train:  (20631, 26)\n",
      "Test:  (13096, 26)\n"
     ]
    }
   ],
   "source": [
    "# see data structure\n",
    "print('RUL: ', df_rul.shape)\n",
    "print('Train: ', df_train.shape)\n",
    "print('Test: ', df_test.shape)"
   ]
  },
  {
   "cell_type": "code",
   "execution_count": 5,
   "metadata": {},
   "outputs": [
    {
     "data": {
      "text/html": [
       "<div>\n",
       "<style scoped>\n",
       "    .dataframe tbody tr th:only-of-type {\n",
       "        vertical-align: middle;\n",
       "    }\n",
       "\n",
       "    .dataframe tbody tr th {\n",
       "        vertical-align: top;\n",
       "    }\n",
       "\n",
       "    .dataframe thead th {\n",
       "        text-align: right;\n",
       "    }\n",
       "</style>\n",
       "<table border=\"1\" class=\"dataframe\">\n",
       "  <thead>\n",
       "    <tr style=\"text-align: right;\">\n",
       "      <th></th>\n",
       "      <th>0</th>\n",
       "      <th>1</th>\n",
       "      <th>2</th>\n",
       "      <th>3</th>\n",
       "      <th>4</th>\n",
       "      <th>5</th>\n",
       "      <th>6</th>\n",
       "      <th>7</th>\n",
       "      <th>8</th>\n",
       "      <th>9</th>\n",
       "      <th>...</th>\n",
       "      <th>16</th>\n",
       "      <th>17</th>\n",
       "      <th>18</th>\n",
       "      <th>19</th>\n",
       "      <th>20</th>\n",
       "      <th>21</th>\n",
       "      <th>22</th>\n",
       "      <th>23</th>\n",
       "      <th>24</th>\n",
       "      <th>25</th>\n",
       "    </tr>\n",
       "  </thead>\n",
       "  <tbody>\n",
       "    <tr>\n",
       "      <th>0</th>\n",
       "      <td>1</td>\n",
       "      <td>1</td>\n",
       "      <td>-0.0007</td>\n",
       "      <td>-0.0004</td>\n",
       "      <td>100.0</td>\n",
       "      <td>518.67</td>\n",
       "      <td>641.82</td>\n",
       "      <td>1589.70</td>\n",
       "      <td>1400.60</td>\n",
       "      <td>14.62</td>\n",
       "      <td>...</td>\n",
       "      <td>521.66</td>\n",
       "      <td>2388.02</td>\n",
       "      <td>8138.62</td>\n",
       "      <td>8.4195</td>\n",
       "      <td>0.03</td>\n",
       "      <td>392</td>\n",
       "      <td>2388</td>\n",
       "      <td>100.0</td>\n",
       "      <td>39.06</td>\n",
       "      <td>23.4190</td>\n",
       "    </tr>\n",
       "    <tr>\n",
       "      <th>1</th>\n",
       "      <td>1</td>\n",
       "      <td>2</td>\n",
       "      <td>0.0019</td>\n",
       "      <td>-0.0003</td>\n",
       "      <td>100.0</td>\n",
       "      <td>518.67</td>\n",
       "      <td>642.15</td>\n",
       "      <td>1591.82</td>\n",
       "      <td>1403.14</td>\n",
       "      <td>14.62</td>\n",
       "      <td>...</td>\n",
       "      <td>522.28</td>\n",
       "      <td>2388.07</td>\n",
       "      <td>8131.49</td>\n",
       "      <td>8.4318</td>\n",
       "      <td>0.03</td>\n",
       "      <td>392</td>\n",
       "      <td>2388</td>\n",
       "      <td>100.0</td>\n",
       "      <td>39.00</td>\n",
       "      <td>23.4236</td>\n",
       "    </tr>\n",
       "    <tr>\n",
       "      <th>2</th>\n",
       "      <td>1</td>\n",
       "      <td>3</td>\n",
       "      <td>-0.0043</td>\n",
       "      <td>0.0003</td>\n",
       "      <td>100.0</td>\n",
       "      <td>518.67</td>\n",
       "      <td>642.35</td>\n",
       "      <td>1587.99</td>\n",
       "      <td>1404.20</td>\n",
       "      <td>14.62</td>\n",
       "      <td>...</td>\n",
       "      <td>522.42</td>\n",
       "      <td>2388.03</td>\n",
       "      <td>8133.23</td>\n",
       "      <td>8.4178</td>\n",
       "      <td>0.03</td>\n",
       "      <td>390</td>\n",
       "      <td>2388</td>\n",
       "      <td>100.0</td>\n",
       "      <td>38.95</td>\n",
       "      <td>23.3442</td>\n",
       "    </tr>\n",
       "    <tr>\n",
       "      <th>3</th>\n",
       "      <td>1</td>\n",
       "      <td>4</td>\n",
       "      <td>0.0007</td>\n",
       "      <td>0.0000</td>\n",
       "      <td>100.0</td>\n",
       "      <td>518.67</td>\n",
       "      <td>642.35</td>\n",
       "      <td>1582.79</td>\n",
       "      <td>1401.87</td>\n",
       "      <td>14.62</td>\n",
       "      <td>...</td>\n",
       "      <td>522.86</td>\n",
       "      <td>2388.08</td>\n",
       "      <td>8133.83</td>\n",
       "      <td>8.3682</td>\n",
       "      <td>0.03</td>\n",
       "      <td>392</td>\n",
       "      <td>2388</td>\n",
       "      <td>100.0</td>\n",
       "      <td>38.88</td>\n",
       "      <td>23.3739</td>\n",
       "    </tr>\n",
       "    <tr>\n",
       "      <th>4</th>\n",
       "      <td>1</td>\n",
       "      <td>5</td>\n",
       "      <td>-0.0019</td>\n",
       "      <td>-0.0002</td>\n",
       "      <td>100.0</td>\n",
       "      <td>518.67</td>\n",
       "      <td>642.37</td>\n",
       "      <td>1582.85</td>\n",
       "      <td>1406.22</td>\n",
       "      <td>14.62</td>\n",
       "      <td>...</td>\n",
       "      <td>522.19</td>\n",
       "      <td>2388.04</td>\n",
       "      <td>8133.80</td>\n",
       "      <td>8.4294</td>\n",
       "      <td>0.03</td>\n",
       "      <td>393</td>\n",
       "      <td>2388</td>\n",
       "      <td>100.0</td>\n",
       "      <td>38.90</td>\n",
       "      <td>23.4044</td>\n",
       "    </tr>\n",
       "  </tbody>\n",
       "</table>\n",
       "<p>5 rows × 26 columns</p>\n",
       "</div>"
      ],
      "text/plain": [
       "   0   1       2       3      4       5       6        7        8      9   \\\n",
       "0   1   1 -0.0007 -0.0004  100.0  518.67  641.82  1589.70  1400.60  14.62   \n",
       "1   1   2  0.0019 -0.0003  100.0  518.67  642.15  1591.82  1403.14  14.62   \n",
       "2   1   3 -0.0043  0.0003  100.0  518.67  642.35  1587.99  1404.20  14.62   \n",
       "3   1   4  0.0007  0.0000  100.0  518.67  642.35  1582.79  1401.87  14.62   \n",
       "4   1   5 -0.0019 -0.0002  100.0  518.67  642.37  1582.85  1406.22  14.62   \n",
       "\n",
       "   ...      16       17       18      19    20   21    22     23     24  \\\n",
       "0  ...  521.66  2388.02  8138.62  8.4195  0.03  392  2388  100.0  39.06   \n",
       "1  ...  522.28  2388.07  8131.49  8.4318  0.03  392  2388  100.0  39.00   \n",
       "2  ...  522.42  2388.03  8133.23  8.4178  0.03  390  2388  100.0  38.95   \n",
       "3  ...  522.86  2388.08  8133.83  8.3682  0.03  392  2388  100.0  38.88   \n",
       "4  ...  522.19  2388.04  8133.80  8.4294  0.03  393  2388  100.0  38.90   \n",
       "\n",
       "        25  \n",
       "0  23.4190  \n",
       "1  23.4236  \n",
       "2  23.3442  \n",
       "3  23.3739  \n",
       "4  23.4044  \n",
       "\n",
       "[5 rows x 26 columns]"
      ]
     },
     "execution_count": 5,
     "metadata": {},
     "output_type": "execute_result"
    }
   ],
   "source": [
    "df_train.head(5)"
   ]
  },
  {
   "cell_type": "markdown",
   "metadata": {},
   "source": [
    "# Feature List\n",
    "\n",
    " * 1)\tunit number\n",
    " * 2)\ttime, in cycles\n",
    " * 3)\toperational setting 1\n",
    " * 4)\toperational setting 2\n",
    " * 5)\toperational setting 3\n",
    " * 6)\tsensor measurement  1\n",
    " * 7)\tsensor measurement  2\n",
    " * ...\n",
    " * 26)\tsensor measurement  26"
   ]
  },
  {
   "cell_type": "markdown",
   "metadata": {},
   "source": [
    "# Preprocess Train"
   ]
  },
  {
   "cell_type": "markdown",
   "metadata": {},
   "source": [
    "generate RUL for y-label by reversing the cycle till failure"
   ]
  },
  {
   "cell_type": "code",
   "execution_count": 8,
   "metadata": {},
   "outputs": [],
   "source": [
    "df_train.rename(columns = {0 : 'unit', 1 : 'cycle'}, inplace = True)\n",
    "\n",
    "total_cycles = df_train.groupby(['unit']).agg({'cycle' : 'max'}).reset_index()\n",
    "total_cycles.rename(columns = {'cycle' : 'total_cycles'}, inplace = True)\n",
    "\n",
    "df_train = df_train.merge(total_cycles, how = 'left', left_on = 'unit', right_on = 'unit')\n",
    "df_train['RUL'] = df_train.apply(lambda r: int(r['total_cycles'] - r['cycle']), axis = 1)\n",
    "    \n",
    "\n",
    "df_train2 = df_train.copy()\n",
    "del df_train2['cycle']\n",
    "\n",
    "X_train = df_train2[df_train2.columns[:25]]\n",
    "y_train = df_train['RUL']"
   ]
  },
  {
   "cell_type": "code",
   "execution_count": 9,
   "metadata": {},
   "outputs": [
    {
     "data": {
      "text/html": [
       "<div>\n",
       "<style scoped>\n",
       "    .dataframe tbody tr th:only-of-type {\n",
       "        vertical-align: middle;\n",
       "    }\n",
       "\n",
       "    .dataframe tbody tr th {\n",
       "        vertical-align: top;\n",
       "    }\n",
       "\n",
       "    .dataframe thead th {\n",
       "        text-align: right;\n",
       "    }\n",
       "</style>\n",
       "<table border=\"1\" class=\"dataframe\">\n",
       "  <thead>\n",
       "    <tr style=\"text-align: right;\">\n",
       "      <th></th>\n",
       "      <th>unit</th>\n",
       "      <th>2</th>\n",
       "      <th>3</th>\n",
       "      <th>4</th>\n",
       "      <th>5</th>\n",
       "      <th>6</th>\n",
       "      <th>7</th>\n",
       "      <th>8</th>\n",
       "      <th>9</th>\n",
       "      <th>10</th>\n",
       "      <th>...</th>\n",
       "      <th>18</th>\n",
       "      <th>19</th>\n",
       "      <th>20</th>\n",
       "      <th>21</th>\n",
       "      <th>22</th>\n",
       "      <th>23</th>\n",
       "      <th>24</th>\n",
       "      <th>25</th>\n",
       "      <th>total_cycles</th>\n",
       "      <th>RUL</th>\n",
       "    </tr>\n",
       "  </thead>\n",
       "  <tbody>\n",
       "    <tr>\n",
       "      <th>0</th>\n",
       "      <td>1</td>\n",
       "      <td>-0.0007</td>\n",
       "      <td>-0.0004</td>\n",
       "      <td>100.0</td>\n",
       "      <td>518.67</td>\n",
       "      <td>641.82</td>\n",
       "      <td>1589.70</td>\n",
       "      <td>1400.60</td>\n",
       "      <td>14.62</td>\n",
       "      <td>21.61</td>\n",
       "      <td>...</td>\n",
       "      <td>8138.62</td>\n",
       "      <td>8.4195</td>\n",
       "      <td>0.03</td>\n",
       "      <td>392</td>\n",
       "      <td>2388</td>\n",
       "      <td>100.0</td>\n",
       "      <td>39.06</td>\n",
       "      <td>23.4190</td>\n",
       "      <td>192</td>\n",
       "      <td>191</td>\n",
       "    </tr>\n",
       "    <tr>\n",
       "      <th>1</th>\n",
       "      <td>1</td>\n",
       "      <td>0.0019</td>\n",
       "      <td>-0.0003</td>\n",
       "      <td>100.0</td>\n",
       "      <td>518.67</td>\n",
       "      <td>642.15</td>\n",
       "      <td>1591.82</td>\n",
       "      <td>1403.14</td>\n",
       "      <td>14.62</td>\n",
       "      <td>21.61</td>\n",
       "      <td>...</td>\n",
       "      <td>8131.49</td>\n",
       "      <td>8.4318</td>\n",
       "      <td>0.03</td>\n",
       "      <td>392</td>\n",
       "      <td>2388</td>\n",
       "      <td>100.0</td>\n",
       "      <td>39.00</td>\n",
       "      <td>23.4236</td>\n",
       "      <td>192</td>\n",
       "      <td>190</td>\n",
       "    </tr>\n",
       "  </tbody>\n",
       "</table>\n",
       "<p>2 rows × 27 columns</p>\n",
       "</div>"
      ],
      "text/plain": [
       "   unit       2       3      4       5       6        7        8      9  \\\n",
       "0     1 -0.0007 -0.0004  100.0  518.67  641.82  1589.70  1400.60  14.62   \n",
       "1     1  0.0019 -0.0003  100.0  518.67  642.15  1591.82  1403.14  14.62   \n",
       "\n",
       "      10  ...       18      19    20   21    22     23     24       25  \\\n",
       "0  21.61  ...  8138.62  8.4195  0.03  392  2388  100.0  39.06  23.4190   \n",
       "1  21.61  ...  8131.49  8.4318  0.03  392  2388  100.0  39.00  23.4236   \n",
       "\n",
       "   total_cycles  RUL  \n",
       "0           192  191  \n",
       "1           192  190  \n",
       "\n",
       "[2 rows x 27 columns]"
      ]
     },
     "execution_count": 9,
     "metadata": {},
     "output_type": "execute_result"
    }
   ],
   "source": [
    "df_train2.head(2)"
   ]
  },
  {
   "cell_type": "markdown",
   "metadata": {},
   "source": [
    "# Preprocess Test"
   ]
  },
  {
   "cell_type": "markdown",
   "metadata": {},
   "source": [
    "Get last cycle for each engine to match with the true test_y RUL label"
   ]
  },
  {
   "cell_type": "code",
   "execution_count": 10,
   "metadata": {
    "collapsed": true,
    "scrolled": false
   },
   "outputs": [],
   "source": [
    "# number of engines\n",
    "engines = df_test[0].unique()\n",
    "\n",
    "df_list = []\n",
    "# get last cycle for each engine\n",
    "for i in engines:\n",
    "    df = df_test[df_test[0]==i]\n",
    "    last = (df[-1:])\n",
    "    df_list.append(last)\n",
    "\n",
    "# union all rows in a dataframe\n",
    "X_test = pd.concat(df_list)\n",
    "del X_test[1]"
   ]
  },
  {
   "cell_type": "code",
   "execution_count": 11,
   "metadata": {
    "collapsed": true
   },
   "outputs": [],
   "source": [
    "y_test = df_rul.values.flatten()"
   ]
  },
  {
   "cell_type": "code",
   "execution_count": 12,
   "metadata": {},
   "outputs": [],
   "source": [
    "from sklearn.preprocessing import StandardScaler\n",
    "\n",
    "sc = StandardScaler()\n",
    "X_train = sc.fit_transform(X_train)\n",
    "X_test = sc.fit_transform(X_test)"
   ]
  },
  {
   "cell_type": "markdown",
   "metadata": {},
   "source": [
    "# Fit Model"
   ]
  },
  {
   "cell_type": "code",
   "execution_count": 13,
   "metadata": {},
   "outputs": [
    {
     "data": {
      "text/plain": [
       "RandomForestRegressor(bootstrap=True, criterion='mse', max_depth=9,\n",
       "                      max_features='auto', max_leaf_nodes=None,\n",
       "                      min_impurity_decrease=0.0, min_impurity_split=None,\n",
       "                      min_samples_leaf=1, min_samples_split=2,\n",
       "                      min_weight_fraction_leaf=0.0, n_estimators=1056,\n",
       "                      n_jobs=-1, oob_score=False, random_state=None, verbose=0,\n",
       "                      warm_start=False)"
      ]
     },
     "execution_count": 13,
     "metadata": {},
     "output_type": "execute_result"
    }
   ],
   "source": [
    "model = RandomForestRegressor(n_estimators=1056, max_depth=9, n_jobs=-1)\n",
    "model.fit(X_train, y_train)"
   ]
  },
  {
   "cell_type": "markdown",
   "metadata": {},
   "source": [
    "## SVM"
   ]
  },
  {
   "cell_type": "code",
   "execution_count": 23,
   "metadata": {},
   "outputs": [
    {
     "name": "stderr",
     "output_type": "stream",
     "text": [
      "/Users/vrishank/anaconda3/lib/python3.6/site-packages/sklearn/model_selection/_split.py:1978: FutureWarning: The default value of cv will change from 3 to 5 in version 0.22. Specify it explicitly to silence this warning.\n",
      "  warnings.warn(CV_WARNING, FutureWarning)\n"
     ]
    },
    {
     "name": "stdout",
     "output_type": "stream",
     "text": [
      "Fitting 3 folds for each of 12 candidates, totalling 36 fits\n"
     ]
    },
    {
     "name": "stderr",
     "output_type": "stream",
     "text": [
      "[Parallel(n_jobs=None)]: Done  36 out of  36 | elapsed:  8.4min finished\n"
     ]
    },
    {
     "data": {
      "text/plain": [
       "GridSearchCV(cv='warn', error_score='raise-deprecating',\n",
       "             estimator=SVR(C=1.0, cache_size=200, coef0=0.0, degree=3,\n",
       "                           epsilon=0.1, gamma='auto', kernel='rbf', max_iter=-1,\n",
       "                           shrinking=True, tol=0.001, verbose=False),\n",
       "             iid='warn', n_jobs=None,\n",
       "             param_grid={'C': [0.1, 1, 5, 10],\n",
       "                         'kernel': ('linear', 'rbf', 'poly')},\n",
       "             pre_dispatch='2*n_jobs', refit=True, return_train_score=False,\n",
       "             scoring=None, verbose=1)"
      ]
     },
     "execution_count": 23,
     "metadata": {},
     "output_type": "execute_result"
    }
   ],
   "source": [
    "from sklearn.model_selection import GridSearchCV\n",
    "from sklearn.svm import SVR\n",
    "\n",
    "model = SVR(gamma='auto')\n",
    "parameters = {'kernel':('rbf'), 'C':[0.8, 1, 1.2, 1.5, 2]}\n",
    "clf = GridSearchCV(model, parameters, verbose=2)\n",
    "clf.fit(X_train, y_train)\n",
    "\n",
    "y_predicted_train = clf.predict(X_train)\n",
    "y_predicted_test = clf.predict(X_test)"
   ]
  },
  {
   "cell_type": "code",
   "execution_count": 24,
   "metadata": {
    "collapsed": true
   },
   "outputs": [],
   "source": [
    "y_predicted_train = clf.predict(X_train)\n",
    "y_predicted_test = clf.predict(X_test)"
   ]
  },
  {
   "cell_type": "markdown",
   "metadata": {},
   "source": [
    "MAE uses the absolute error, ie. # of cycles"
   ]
  },
  {
   "cell_type": "code",
   "execution_count": 25,
   "metadata": {},
   "outputs": [
    {
     "name": "stdout",
     "output_type": "stream",
     "text": [
      "Train MAE 29.27286832915188\n",
      "Train MAE 21.13640503413754\n"
     ]
    }
   ],
   "source": [
    "MAE_train = mean_absolute_error(y_train, y_predicted_train)\n",
    "MAE_test = mean_absolute_error(y_test, y_predicted_test)\n",
    "\n",
    "print('Train MAE', MAE_train)\n",
    "print('Train MAE', MAE_test)"
   ]
  },
  {
   "cell_type": "code",
   "execution_count": 26,
   "metadata": {},
   "outputs": [
    {
     "name": "stdout",
     "output_type": "stream",
     "text": [
      "Train RMSE: 41.941195000786884\n",
      "Test RMSE: 26.342764337340384\n"
     ]
    }
   ],
   "source": [
    "MSE_train = mean_squared_error(y_train, y_predicted_train)\n",
    "MSE_test = mean_squared_error(y_test, y_predicted_test)\n",
    "\n",
    "print('Train RMSE:', np.sqrt(MSE_train))\n",
    "print('Test RMSE:', np.sqrt(MSE_test))"
   ]
  },
  {
   "cell_type": "markdown",
   "metadata": {},
   "source": [
    "## Random Forest"
   ]
  },
  {
   "cell_type": "code",
   "execution_count": 30,
   "metadata": {},
   "outputs": [
    {
     "name": "stderr",
     "output_type": "stream",
     "text": [
      "/Users/vrishank/anaconda3/lib/python3.6/site-packages/sklearn/model_selection/_split.py:1978: FutureWarning: The default value of cv will change from 3 to 5 in version 0.22. Specify it explicitly to silence this warning.\n",
      "  warnings.warn(CV_WARNING, FutureWarning)\n"
     ]
    },
    {
     "name": "stdout",
     "output_type": "stream",
     "text": [
      "Fitting 3 folds for each of 20 candidates, totalling 60 fits\n",
      "[CV] max_depth=5, n_estimators=50 ....................................\n",
      "[CV] ..................... max_depth=5, n_estimators=50, total=   1.7s\n",
      "[CV] max_depth=5, n_estimators=50 ....................................\n"
     ]
    },
    {
     "name": "stderr",
     "output_type": "stream",
     "text": [
      "[Parallel(n_jobs=None)]: Done   1 out of   1 | elapsed:    1.7s remaining:    0.0s\n"
     ]
    },
    {
     "name": "stdout",
     "output_type": "stream",
     "text": [
      "[CV] ..................... max_depth=5, n_estimators=50, total=   1.8s\n",
      "[CV] max_depth=5, n_estimators=50 ....................................\n",
      "[CV] ..................... max_depth=5, n_estimators=50, total=   1.4s\n",
      "[CV] max_depth=5, n_estimators=100 ...................................\n",
      "[CV] .................... max_depth=5, n_estimators=100, total=   3.2s\n",
      "[CV] max_depth=5, n_estimators=100 ...................................\n",
      "[CV] .................... max_depth=5, n_estimators=100, total=   2.8s\n",
      "[CV] max_depth=5, n_estimators=100 ...................................\n",
      "[CV] .................... max_depth=5, n_estimators=100, total=   2.8s\n",
      "[CV] max_depth=5, n_estimators=250 ...................................\n",
      "[CV] .................... max_depth=5, n_estimators=250, total=   6.3s\n",
      "[CV] max_depth=5, n_estimators=250 ...................................\n",
      "[CV] .................... max_depth=5, n_estimators=250, total=   7.0s\n",
      "[CV] max_depth=5, n_estimators=250 ...................................\n",
      "[CV] .................... max_depth=5, n_estimators=250, total=   7.0s\n",
      "[CV] max_depth=5, n_estimators=500 ...................................\n",
      "[CV] .................... max_depth=5, n_estimators=500, total=  14.4s\n",
      "[CV] max_depth=5, n_estimators=500 ...................................\n",
      "[CV] .................... max_depth=5, n_estimators=500, total=  13.5s\n",
      "[CV] max_depth=5, n_estimators=500 ...................................\n",
      "[CV] .................... max_depth=5, n_estimators=500, total=  14.9s\n",
      "[CV] max_depth=5, n_estimators=1000 ..................................\n",
      "[CV] ................... max_depth=5, n_estimators=1000, total=  29.9s\n",
      "[CV] max_depth=5, n_estimators=1000 ..................................\n",
      "[CV] ................... max_depth=5, n_estimators=1000, total=  28.8s\n",
      "[CV] max_depth=5, n_estimators=1000 ..................................\n",
      "[CV] ................... max_depth=5, n_estimators=1000, total=  26.7s\n",
      "[CV] max_depth=7, n_estimators=50 ....................................\n",
      "[CV] ..................... max_depth=7, n_estimators=50, total=   1.9s\n",
      "[CV] max_depth=7, n_estimators=50 ....................................\n",
      "[CV] ..................... max_depth=7, n_estimators=50, total=   1.8s\n",
      "[CV] max_depth=7, n_estimators=50 ....................................\n",
      "[CV] ..................... max_depth=7, n_estimators=50, total=   2.0s\n",
      "[CV] max_depth=7, n_estimators=100 ...................................\n",
      "[CV] .................... max_depth=7, n_estimators=100, total=   3.9s\n",
      "[CV] max_depth=7, n_estimators=100 ...................................\n",
      "[CV] .................... max_depth=7, n_estimators=100, total=   3.6s\n",
      "[CV] max_depth=7, n_estimators=100 ...................................\n",
      "[CV] .................... max_depth=7, n_estimators=100, total=   4.3s\n",
      "[CV] max_depth=7, n_estimators=250 ...................................\n",
      "[CV] .................... max_depth=7, n_estimators=250, total=  10.9s\n",
      "[CV] max_depth=7, n_estimators=250 ...................................\n",
      "[CV] .................... max_depth=7, n_estimators=250, total=   9.5s\n",
      "[CV] max_depth=7, n_estimators=250 ...................................\n",
      "[CV] .................... max_depth=7, n_estimators=250, total=  10.9s\n",
      "[CV] max_depth=7, n_estimators=500 ...................................\n",
      "[CV] .................... max_depth=7, n_estimators=500, total=  28.1s\n",
      "[CV] max_depth=7, n_estimators=500 ...................................\n",
      "[CV] .................... max_depth=7, n_estimators=500, total=  21.7s\n",
      "[CV] max_depth=7, n_estimators=500 ...................................\n",
      "[CV] .................... max_depth=7, n_estimators=500, total=  19.3s\n",
      "[CV] max_depth=7, n_estimators=1000 ..................................\n",
      "[CV] ................... max_depth=7, n_estimators=1000, total=  40.1s\n",
      "[CV] max_depth=7, n_estimators=1000 ..................................\n",
      "[CV] ................... max_depth=7, n_estimators=1000, total=  35.1s\n",
      "[CV] max_depth=7, n_estimators=1000 ..................................\n",
      "[CV] ................... max_depth=7, n_estimators=1000, total=  33.7s\n",
      "[CV] max_depth=9, n_estimators=50 ....................................\n",
      "[CV] ..................... max_depth=9, n_estimators=50, total=   2.3s\n",
      "[CV] max_depth=9, n_estimators=50 ....................................\n",
      "[CV] ..................... max_depth=9, n_estimators=50, total=   2.3s\n",
      "[CV] max_depth=9, n_estimators=50 ....................................\n",
      "[CV] ..................... max_depth=9, n_estimators=50, total=   2.3s\n",
      "[CV] max_depth=9, n_estimators=100 ...................................\n",
      "[CV] .................... max_depth=9, n_estimators=100, total=   4.3s\n",
      "[CV] max_depth=9, n_estimators=100 ...................................\n",
      "[CV] .................... max_depth=9, n_estimators=100, total=   4.3s\n",
      "[CV] max_depth=9, n_estimators=100 ...................................\n",
      "[CV] .................... max_depth=9, n_estimators=100, total=   4.4s\n",
      "[CV] max_depth=9, n_estimators=250 ...................................\n",
      "[CV] .................... max_depth=9, n_estimators=250, total=  10.6s\n",
      "[CV] max_depth=9, n_estimators=250 ...................................\n",
      "[CV] .................... max_depth=9, n_estimators=250, total=  13.6s\n",
      "[CV] max_depth=9, n_estimators=250 ...................................\n",
      "[CV] .................... max_depth=9, n_estimators=250, total=  18.1s\n",
      "[CV] max_depth=9, n_estimators=500 ...................................\n",
      "[CV] .................... max_depth=9, n_estimators=500, total=  27.2s\n",
      "[CV] max_depth=9, n_estimators=500 ...................................\n",
      "[CV] .................... max_depth=9, n_estimators=500, total=  32.7s\n",
      "[CV] max_depth=9, n_estimators=500 ...................................\n",
      "[CV] .................... max_depth=9, n_estimators=500, total=  33.2s\n",
      "[CV] max_depth=9, n_estimators=1000 ..................................\n",
      "[CV] ................... max_depth=9, n_estimators=1000, total=  50.1s\n",
      "[CV] max_depth=9, n_estimators=1000 ..................................\n",
      "[CV] ................... max_depth=9, n_estimators=1000, total=  52.1s\n",
      "[CV] max_depth=9, n_estimators=1000 ..................................\n",
      "[CV] ................... max_depth=9, n_estimators=1000, total=  42.8s\n",
      "[CV] max_depth=11, n_estimators=50 ...................................\n",
      "[CV] .................... max_depth=11, n_estimators=50, total=   2.7s\n",
      "[CV] max_depth=11, n_estimators=50 ...................................\n",
      "[CV] .................... max_depth=11, n_estimators=50, total=   2.7s\n",
      "[CV] max_depth=11, n_estimators=50 ...................................\n",
      "[CV] .................... max_depth=11, n_estimators=50, total=   2.8s\n",
      "[CV] max_depth=11, n_estimators=100 ..................................\n",
      "[CV] ................... max_depth=11, n_estimators=100, total=   5.2s\n",
      "[CV] max_depth=11, n_estimators=100 ..................................\n",
      "[CV] ................... max_depth=11, n_estimators=100, total=   5.2s\n",
      "[CV] max_depth=11, n_estimators=100 ..................................\n",
      "[CV] ................... max_depth=11, n_estimators=100, total=   6.9s\n",
      "[CV] max_depth=11, n_estimators=250 ..................................\n",
      "[CV] ................... max_depth=11, n_estimators=250, total=  13.0s\n",
      "[CV] max_depth=11, n_estimators=250 ..................................\n",
      "[CV] ................... max_depth=11, n_estimators=250, total=  15.4s\n",
      "[CV] max_depth=11, n_estimators=250 ..................................\n",
      "[CV] ................... max_depth=11, n_estimators=250, total=  13.1s\n",
      "[CV] max_depth=11, n_estimators=500 ..................................\n",
      "[CV] ................... max_depth=11, n_estimators=500, total=  28.1s\n",
      "[CV] max_depth=11, n_estimators=500 ..................................\n",
      "[CV] ................... max_depth=11, n_estimators=500, total=  40.7s\n",
      "[CV] max_depth=11, n_estimators=500 ..................................\n",
      "[CV] ................... max_depth=11, n_estimators=500, total=  27.0s\n",
      "[CV] max_depth=11, n_estimators=1000 .................................\n",
      "[CV] .................. max_depth=11, n_estimators=1000, total=  54.9s\n",
      "[CV] max_depth=11, n_estimators=1000 .................................\n",
      "[CV] .................. max_depth=11, n_estimators=1000, total=  54.3s\n",
      "[CV] max_depth=11, n_estimators=1000 .................................\n"
     ]
    },
    {
     "name": "stdout",
     "output_type": "stream",
     "text": [
      "[CV] .................. max_depth=11, n_estimators=1000, total=  53.6s\n"
     ]
    },
    {
     "name": "stderr",
     "output_type": "stream",
     "text": [
      "[Parallel(n_jobs=None)]: Done  60 out of  60 | elapsed: 16.9min finished\n"
     ]
    },
    {
     "name": "stdout",
     "output_type": "stream",
     "text": [
      "Train MAE 30.38278829371944\n",
      "Train MAE 29.96958981052097\n",
      "Train RMSE: 41.75586348547492\n",
      "Test RMSE: 39.72114621380167\n"
     ]
    }
   ],
   "source": [
    "from sklearn.model_selection import GridSearchCV\n",
    "from sklearn.ensemble import RandomForestRegressor\n",
    "\n",
    "model = RandomForestRegressor(n_jobs=-1)\n",
    "parameters = {'max_depth':[5, 7, 9, 11] , 'n_estimators':[50, 100, 250, 500, 1000]}\n",
    "clf = GridSearchCV(model, parameters, verbose=2)\n",
    "clf.fit(X_train, y_train)\n",
    "\n",
    "y_predicted_train = clf.predict(X_train)\n",
    "y_predicted_test = clf.predict(X_test)\n",
    "\n",
    "MAE_train = mean_absolute_error(y_train, y_predicted_train)\n",
    "MAE_test = mean_absolute_error(y_test, y_predicted_test)\n",
    "\n",
    "print('Train MAE', MAE_train)\n",
    "print('Train MAE', MAE_test)\n",
    "\n",
    "MSE_train = mean_squared_error(y_train, y_predicted_train)\n",
    "MSE_test = mean_squared_error(y_test, y_predicted_test)\n",
    "\n",
    "print('Train RMSE:', np.sqrt(MSE_train))\n",
    "print('Test RMSE:', np.sqrt(MSE_test))"
   ]
  },
  {
   "cell_type": "markdown",
   "metadata": {},
   "source": [
    "## GBT"
   ]
  },
  {
   "cell_type": "code",
   "execution_count": 30,
   "metadata": {},
   "outputs": [
    {
     "name": "stdout",
     "output_type": "stream",
     "text": [
      "Train MAE 48.87750701893625\n",
      "Train MAE 34.918492508487\n",
      "Train RMSE: 61.107487716514584\n",
      "Test RMSE: 43.83121657104109\n"
     ]
    }
   ],
   "source": [
    "from sklearn.model_selection import GridSearchCV\n",
    "from sklearn.ensemble import GradientBoostingRegressor\n",
    "\n",
    "model = GradientBoostingRegressor()\n",
    "parameters = {'max_depth':[5, 7, 9, 11] , 'n_estimators':[50, 100, 250, 500, 1000]}\n",
    "clf = GridSearchCV(model, parameters, verbose=2, n_jobs=-1)\n",
    "clf.fit(X_train, y_train)\n",
    "\n",
    "y_predicted_train = clf.predict(X_train)\n",
    "y_predicted_test = clf.predict(X_test)\n",
    "\n",
    "MAE_train = mean_absolute_error(y_train, y_predicted_train)\n",
    "MAE_test = mean_absolute_error(y_test, y_predicted_test)\n",
    "\n",
    "print('Train MAE', MAE_train)\n",
    "print('Train MAE', MAE_test)\n",
    "\n",
    "MSE_train = mean_squared_error(y_train, y_predicted_train)\n",
    "MSE_test = mean_squared_error(y_test, y_predicted_test)\n",
    "\n",
    "print('Train RMSE:', np.sqrt(MSE_train))\n",
    "print('Test RMSE:', np.sqrt(MSE_test))"
   ]
  },
  {
   "cell_type": "markdown",
   "metadata": {},
   "source": [
    "## KNN"
   ]
  },
  {
   "cell_type": "code",
   "execution_count": 33,
   "metadata": {},
   "outputs": [
    {
     "name": "stderr",
     "output_type": "stream",
     "text": [
      "/Users/vrishank/anaconda3/lib/python3.6/site-packages/sklearn/model_selection/_split.py:1978: FutureWarning: The default value of cv will change from 3 to 5 in version 0.22. Specify it explicitly to silence this warning.\n",
      "  warnings.warn(CV_WARNING, FutureWarning)\n"
     ]
    },
    {
     "name": "stdout",
     "output_type": "stream",
     "text": [
      "[CV] n_neighbors=2 ...................................................\n",
      "[CV] n_neighbors=2 ...................................................\n",
      "[CV] n_neighbors=2 ...................................................\n",
      "[CV] n_neighbors=4 ...................................................\n",
      "Fitting 3 folds for each of 7 candidates, totalling 21 fits\n"
     ]
    },
    {
     "name": "stderr",
     "output_type": "stream",
     "text": [
      "/Users/vrishank/anaconda3/lib/python3.6/site-packages/sklearn/neighbors/base.py:420: UserWarning: Multiprocessing-backed parallel loops cannot be nested, setting n_jobs=1\n",
      "  n_jobs = effective_n_jobs(self.n_jobs)\n",
      "/Users/vrishank/anaconda3/lib/python3.6/site-packages/sklearn/neighbors/base.py:420: UserWarning: Multiprocessing-backed parallel loops cannot be nested, setting n_jobs=1\n",
      "  n_jobs = effective_n_jobs(self.n_jobs)\n",
      "/Users/vrishank/anaconda3/lib/python3.6/site-packages/sklearn/neighbors/base.py:420: UserWarning: Multiprocessing-backed parallel loops cannot be nested, setting n_jobs=1\n",
      "  n_jobs = effective_n_jobs(self.n_jobs)\n",
      "/Users/vrishank/anaconda3/lib/python3.6/site-packages/sklearn/neighbors/base.py:420: UserWarning: Multiprocessing-backed parallel loops cannot be nested, setting n_jobs=1\n",
      "  n_jobs = effective_n_jobs(self.n_jobs)\n"
     ]
    },
    {
     "name": "stdout",
     "output_type": "stream",
     "text": [
      "[CV] .................................... n_neighbors=2, total=  12.2s\n",
      "[CV] n_neighbors=4 ...................................................\n"
     ]
    },
    {
     "name": "stderr",
     "output_type": "stream",
     "text": [
      "/Users/vrishank/anaconda3/lib/python3.6/site-packages/sklearn/neighbors/base.py:420: UserWarning: Multiprocessing-backed parallel loops cannot be nested, setting n_jobs=1\n",
      "  n_jobs = effective_n_jobs(self.n_jobs)\n"
     ]
    },
    {
     "name": "stdout",
     "output_type": "stream",
     "text": [
      "[CV] .................................... n_neighbors=2, total=  12.4s\n",
      "[CV] n_neighbors=4 ...................................................\n",
      "[CV] .................................... n_neighbors=2, total=  12.5s\n",
      "[CV] n_neighbors=8 ...................................................\n"
     ]
    },
    {
     "name": "stderr",
     "output_type": "stream",
     "text": [
      "/Users/vrishank/anaconda3/lib/python3.6/site-packages/sklearn/neighbors/base.py:420: UserWarning: Multiprocessing-backed parallel loops cannot be nested, setting n_jobs=1\n",
      "  n_jobs = effective_n_jobs(self.n_jobs)\n",
      "/Users/vrishank/anaconda3/lib/python3.6/site-packages/sklearn/neighbors/base.py:420: UserWarning: Multiprocessing-backed parallel loops cannot be nested, setting n_jobs=1\n",
      "  n_jobs = effective_n_jobs(self.n_jobs)\n"
     ]
    },
    {
     "name": "stdout",
     "output_type": "stream",
     "text": [
      "[CV] .................................... n_neighbors=4, total=  12.9s\n",
      "[CV] n_neighbors=8 ...................................................\n"
     ]
    },
    {
     "name": "stderr",
     "output_type": "stream",
     "text": [
      "/Users/vrishank/anaconda3/lib/python3.6/site-packages/sklearn/neighbors/base.py:420: UserWarning: Multiprocessing-backed parallel loops cannot be nested, setting n_jobs=1\n",
      "  n_jobs = effective_n_jobs(self.n_jobs)\n"
     ]
    },
    {
     "name": "stdout",
     "output_type": "stream",
     "text": [
      "[CV] .................................... n_neighbors=4, total=  13.7s\n",
      "[CV] n_neighbors=8 ...................................................\n"
     ]
    },
    {
     "name": "stderr",
     "output_type": "stream",
     "text": [
      "/Users/vrishank/anaconda3/lib/python3.6/site-packages/sklearn/neighbors/base.py:420: UserWarning: Multiprocessing-backed parallel loops cannot be nested, setting n_jobs=1\n",
      "  n_jobs = effective_n_jobs(self.n_jobs)\n"
     ]
    },
    {
     "name": "stdout",
     "output_type": "stream",
     "text": [
      "[CV] .................................... n_neighbors=4, total=  13.9s\n",
      "[CV] n_neighbors=16 ..................................................\n"
     ]
    },
    {
     "name": "stderr",
     "output_type": "stream",
     "text": [
      "/Users/vrishank/anaconda3/lib/python3.6/site-packages/sklearn/neighbors/base.py:420: UserWarning: Multiprocessing-backed parallel loops cannot be nested, setting n_jobs=1\n",
      "  n_jobs = effective_n_jobs(self.n_jobs)\n"
     ]
    },
    {
     "name": "stdout",
     "output_type": "stream",
     "text": [
      "[CV] .................................... n_neighbors=8, total=  14.2s\n",
      "[CV] n_neighbors=16 ..................................................\n"
     ]
    },
    {
     "name": "stderr",
     "output_type": "stream",
     "text": [
      "/Users/vrishank/anaconda3/lib/python3.6/site-packages/sklearn/neighbors/base.py:420: UserWarning: Multiprocessing-backed parallel loops cannot be nested, setting n_jobs=1\n",
      "  n_jobs = effective_n_jobs(self.n_jobs)\n"
     ]
    },
    {
     "name": "stdout",
     "output_type": "stream",
     "text": [
      "[CV] .................................... n_neighbors=8, total=  14.2s\n",
      "[CV] n_neighbors=16 ..................................................\n"
     ]
    },
    {
     "name": "stderr",
     "output_type": "stream",
     "text": [
      "/Users/vrishank/anaconda3/lib/python3.6/site-packages/sklearn/neighbors/base.py:420: UserWarning: Multiprocessing-backed parallel loops cannot be nested, setting n_jobs=1\n",
      "  n_jobs = effective_n_jobs(self.n_jobs)\n"
     ]
    },
    {
     "name": "stdout",
     "output_type": "stream",
     "text": [
      "[CV] .................................... n_neighbors=8, total=  17.8s\n",
      "[CV] n_neighbors=32 ..................................................\n"
     ]
    },
    {
     "name": "stderr",
     "output_type": "stream",
     "text": [
      "/Users/vrishank/anaconda3/lib/python3.6/site-packages/sklearn/neighbors/base.py:420: UserWarning: Multiprocessing-backed parallel loops cannot be nested, setting n_jobs=1\n",
      "  n_jobs = effective_n_jobs(self.n_jobs)\n"
     ]
    },
    {
     "name": "stdout",
     "output_type": "stream",
     "text": [
      "[CV] ................................... n_neighbors=16, total=  18.5s\n",
      "[CV] n_neighbors=32 ..................................................\n"
     ]
    },
    {
     "name": "stderr",
     "output_type": "stream",
     "text": [
      "/Users/vrishank/anaconda3/lib/python3.6/site-packages/sklearn/neighbors/base.py:420: UserWarning: Multiprocessing-backed parallel loops cannot be nested, setting n_jobs=1\n",
      "  n_jobs = effective_n_jobs(self.n_jobs)\n"
     ]
    },
    {
     "name": "stdout",
     "output_type": "stream",
     "text": [
      "[CV] ................................... n_neighbors=16, total=  18.8s\n",
      "[CV] n_neighbors=32 ..................................................\n"
     ]
    },
    {
     "name": "stderr",
     "output_type": "stream",
     "text": [
      "/Users/vrishank/anaconda3/lib/python3.6/site-packages/sklearn/neighbors/base.py:420: UserWarning: Multiprocessing-backed parallel loops cannot be nested, setting n_jobs=1\n",
      "  n_jobs = effective_n_jobs(self.n_jobs)\n"
     ]
    },
    {
     "name": "stdout",
     "output_type": "stream",
     "text": [
      "[CV] ................................... n_neighbors=16, total=  19.3s\n",
      "[CV] n_neighbors=64 ..................................................\n"
     ]
    },
    {
     "name": "stderr",
     "output_type": "stream",
     "text": [
      "/Users/vrishank/anaconda3/lib/python3.6/site-packages/sklearn/neighbors/base.py:420: UserWarning: Multiprocessing-backed parallel loops cannot be nested, setting n_jobs=1\n",
      "  n_jobs = effective_n_jobs(self.n_jobs)\n"
     ]
    },
    {
     "name": "stdout",
     "output_type": "stream",
     "text": [
      "[CV] ................................... n_neighbors=32, total=  20.2s\n",
      "[CV] n_neighbors=64 ..................................................\n"
     ]
    },
    {
     "name": "stderr",
     "output_type": "stream",
     "text": [
      "/Users/vrishank/anaconda3/lib/python3.6/site-packages/sklearn/neighbors/base.py:420: UserWarning: Multiprocessing-backed parallel loops cannot be nested, setting n_jobs=1\n",
      "  n_jobs = effective_n_jobs(self.n_jobs)\n"
     ]
    },
    {
     "name": "stdout",
     "output_type": "stream",
     "text": [
      "[CV] ................................... n_neighbors=32, total=  20.1s\n",
      "[CV] n_neighbors=64 ..................................................\n"
     ]
    },
    {
     "name": "stderr",
     "output_type": "stream",
     "text": [
      "/Users/vrishank/anaconda3/lib/python3.6/site-packages/sklearn/neighbors/base.py:420: UserWarning: Multiprocessing-backed parallel loops cannot be nested, setting n_jobs=1\n",
      "  n_jobs = effective_n_jobs(self.n_jobs)\n"
     ]
    },
    {
     "name": "stdout",
     "output_type": "stream",
     "text": [
      "[CV] ................................... n_neighbors=32, total=  20.3s\n",
      "[CV] n_neighbors=128 .................................................\n"
     ]
    },
    {
     "name": "stderr",
     "output_type": "stream",
     "text": [
      "/Users/vrishank/anaconda3/lib/python3.6/site-packages/sklearn/neighbors/base.py:420: UserWarning: Multiprocessing-backed parallel loops cannot be nested, setting n_jobs=1\n",
      "  n_jobs = effective_n_jobs(self.n_jobs)\n"
     ]
    },
    {
     "name": "stdout",
     "output_type": "stream",
     "text": [
      "[CV] ................................... n_neighbors=64, total=  21.8s\n",
      "[CV] n_neighbors=128 .................................................\n"
     ]
    },
    {
     "name": "stderr",
     "output_type": "stream",
     "text": [
      "/Users/vrishank/anaconda3/lib/python3.6/site-packages/sklearn/neighbors/base.py:420: UserWarning: Multiprocessing-backed parallel loops cannot be nested, setting n_jobs=1\n",
      "  n_jobs = effective_n_jobs(self.n_jobs)\n"
     ]
    },
    {
     "name": "stdout",
     "output_type": "stream",
     "text": [
      "[CV] ................................... n_neighbors=64, total=  23.5s\n",
      "[CV] n_neighbors=128 .................................................\n"
     ]
    },
    {
     "name": "stderr",
     "output_type": "stream",
     "text": [
      "/Users/vrishank/anaconda3/lib/python3.6/site-packages/sklearn/neighbors/base.py:420: UserWarning: Multiprocessing-backed parallel loops cannot be nested, setting n_jobs=1\n",
      "  n_jobs = effective_n_jobs(self.n_jobs)\n"
     ]
    },
    {
     "name": "stdout",
     "output_type": "stream",
     "text": [
      "[CV] ................................... n_neighbors=64, total=  24.8s\n",
      "[CV] .................................. n_neighbors=128, total=  25.0s\n",
      "[CV] .................................. n_neighbors=128, total=  23.4s\n",
      "[CV] .................................. n_neighbors=128, total=  10.4s\n"
     ]
    },
    {
     "name": "stderr",
     "output_type": "stream",
     "text": [
      "[Parallel(n_jobs=-1)]: Done  21 out of  21 | elapsed:  1.6min finished\n"
     ]
    },
    {
     "name": "stdout",
     "output_type": "stream",
     "text": [
      "Train MAE 29.70165610913189\n",
      "Train MAE 31.37953125\n",
      "Train RMSE: 40.90244824767529\n",
      "Test RMSE: 38.52132380507337\n"
     ]
    }
   ],
   "source": [
    "from sklearn.model_selection import GridSearchCV\n",
    "from sklearn.neighbors import KNeighborsRegressor\n",
    "\n",
    "model = KNeighborsRegressor(n_jobs=-1)\n",
    "parameters = {'n_neighbors':[2, 4, 8, 16, 32, 64, 128]}\n",
    "clf = GridSearchCV(model, parameters, verbose=2)\n",
    "clf.fit(X_train, y_train)\n",
    "\n",
    "y_predicted_train = clf.predict(X_train)\n",
    "y_predicted_test = clf.predict(X_test)\n",
    "\n",
    "MAE_train = mean_absolute_error(y_train, y_predicted_train)\n",
    "MAE_test = mean_absolute_error(y_test, y_predicted_test)\n",
    "\n",
    "print('Train MAE', MAE_train)\n",
    "print('Train MAE', MAE_test)\n",
    "\n",
    "MSE_train = mean_squared_error(y_train, y_predicted_train)\n",
    "MSE_test = mean_squared_error(y_test, y_predicted_test)\n",
    "\n",
    "print('Train RMSE:', np.sqrt(MSE_train))\n",
    "print('Test RMSE:', np.sqrt(MSE_test))"
   ]
  },
  {
   "cell_type": "markdown",
   "metadata": {},
   "source": [
    "## MLP"
   ]
  },
  {
   "cell_type": "code",
   "execution_count": null,
   "metadata": {},
   "outputs": [
    {
     "name": "stdout",
     "output_type": "stream",
     "text": [
      "Train MAE 24.278582307600132\n",
      "Train MAE 25.398724428038605\n",
      "Train RMSE: 34.3964518896602\n",
      "Test RMSE: 37.305551637243134\n"
     ]
    },
    {
     "name": "stderr",
     "output_type": "stream",
     "text": [
      "/Users/vrishank/anaconda3/lib/python3.6/site-packages/sklearn/neural_network/multilayer_perceptron.py:566: ConvergenceWarning: Stochastic Optimizer: Maximum iterations (100) reached and the optimization hasn't converged yet.\n",
      "  % self.max_iter, ConvergenceWarning)\n"
     ]
    }
   ],
   "source": [
    "from sklearn.preprocessing import StandardScaler\n",
    "\n",
    "sc = StandardScaler()\n",
    "X_train = sc.fit_transform(X_train)\n",
    "X_test = sc.fit_transform(X_test)\n",
    "\n",
    "from sklearn.neural_network import MLPRegressor\n",
    "\n",
    "model = MLPRegressor(hidden_layer_sizes=(150,100,50), max_iter=100,activation = 'relu',solver='adam',random_state=1)\n",
    "model.fit(X_train, y_train)\n",
    "\n",
    "y_predicted_train = model.predict(X_train)\n",
    "y_predicted_test = model.predict(X_test)\n",
    "\n",
    "MAE_train = mean_absolute_error(y_train, y_predicted_train)\n",
    "MAE_test = mean_absolute_error(y_test, y_predicted_test)\n",
    "\n",
    "print('Train MAE', MAE_train)\n",
    "print('Train MAE', MAE_test)\n",
    "\n",
    "MSE_train = mean_squared_error(y_train, y_predicted_train)\n",
    "MSE_test = mean_squared_error(y_test, y_predicted_test)\n",
    "\n",
    "print('Train RMSE:', np.sqrt(MSE_train))\n",
    "print('Test RMSE:', np.sqrt(MSE_test))"
   ]
  },
  {
   "cell_type": "code",
   "execution_count": 10,
   "metadata": {},
   "outputs": [
    {
     "name": "stdout",
     "output_type": "stream",
     "text": [
      "Train MAE 24.34629319955407\n",
      "Train MAE 29.645\n",
      "Train RMSE: 33.98290621145233\n",
      "Test RMSE: 41.02928070293214\n"
     ]
    }
   ],
   "source": [
    "from sklearn.neighbors import KNeighborsRegressor\n",
    "\n",
    "\n",
    "model = KNeighborsRegressor(n_neighbors=8)\n",
    "model.fit(X_train, y_train)\n",
    "\n",
    "y_predicted_train = model.predict(X_train)\n",
    "y_predicted_test = model.predict(X_test)\n",
    "\n",
    "MAE_train = mean_absolute_error(y_train, y_predicted_train)\n",
    "MAE_test = mean_absolute_error(y_test, y_predicted_test)\n",
    "\n",
    "print('Train MAE', MAE_train)\n",
    "print('Train MAE', MAE_test)\n",
    "\n",
    "MSE_train = mean_squared_error(y_train, y_predicted_train)\n",
    "MSE_test = mean_squared_error(y_test, y_predicted_test)\n",
    "\n",
    "print('Train RMSE:', np.sqrt(MSE_train))\n",
    "print('Test RMSE:', np.sqrt(MSE_test))"
   ]
  },
  {
   "cell_type": "code",
   "execution_count": null,
   "metadata": {
    "collapsed": true
   },
   "outputs": [],
   "source": []
  }
 ],
 "metadata": {
  "kernelspec": {
   "display_name": "Python 3",
   "language": "python",
   "name": "python3"
  },
  "language_info": {
   "codemirror_mode": {
    "name": "ipython",
    "version": 3
   },
   "file_extension": ".py",
   "mimetype": "text/x-python",
   "name": "python",
   "nbconvert_exporter": "python",
   "pygments_lexer": "ipython3",
   "version": "3.6.3"
  },
  "toc": {
   "base_numbering": 1,
   "nav_menu": {},
   "number_sections": true,
   "sideBar": true,
   "skip_h1_title": false,
   "title_cell": "Table of Contents",
   "title_sidebar": "Contents",
   "toc_cell": false,
   "toc_position": {
    "height": "calc(100% - 180px)",
    "left": "10px",
    "top": "150px",
    "width": "278.6px"
   },
   "toc_section_display": true,
   "toc_window_display": true
  }
 },
 "nbformat": 4,
 "nbformat_minor": 2
}
